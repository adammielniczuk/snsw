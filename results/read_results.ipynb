{
 "cells": [
  {
   "cell_type": "code",
   "execution_count": 1,
   "metadata": {},
   "outputs": [],
   "source": [
    "import os\n",
    "\n",
    "def parse_results(file_path):\n",
    "    \"\"\"Parses the results.txt file to extract the required values.\"\"\"\n",
    "    results = {}\n",
    "    with open(file_path, 'r') as f:\n",
    "        for line in f:\n",
    "            if \"Hits @1:\" in line:\n",
    "                results['Hits@1'] = float(line.split(\":\")[1].strip())\n",
    "            elif \"Hits @3:\" in line:\n",
    "                results['Hits@3'] = float(line.split(\":\")[1].strip())\n",
    "            elif \"Hits @10:\" in line:\n",
    "                results['Hits@10'] = float(line.split(\":\")[1].strip())\n",
    "            elif \"Mean rank:\" in line and \"Mean rank right\" not in line and \"Mean rank left\" not in line:\n",
    "                results['Mean rank'] = float(line.split(\":\")[1].strip())\n",
    "            elif \"Mean reciprocal rank:\" in line and \"Mean reciprocal rank right\" not in line and \"Mean reciprocal rank left\" not in line:\n",
    "                results['Mean Reciprocal Rank'] = float(line.split(\":\")[1].strip())\n",
    "    return results\n",
    "\n",
    "def generate_latex_table(data):\n",
    "    \"\"\"Generates a LaTeX table from the data.\"\"\"\n",
    "    header = (\n",
    "        \"\\\\begin{table}[ht]\\n\"\n",
    "        \"\\\\centering\\n\"\n",
    "        \"\\\\caption{Results Summary}\\n\"\n",
    "        \"\\\\label{tab:results_summary}\\n\"\n",
    "        \"\\\\begin{tabular}{|l|c|c|c|c|c|}\\n\"\n",
    "        \"\\\\hline\\n\"\n",
    "        \"\\\\textbf{Model} & \\\\textbf{Hits@1} & \\\\textbf{Hits@3} & \\\\textbf{Hits@10} & \\\\textbf{Mean rank} & \\\\textbf{Mean Reciprocal Rank} \\\\\\\\ \\\\hline\\n\"\n",
    "    )\n",
    "    footer = \"\\\\end{tabular}\\n\\\\end{table}\\n\"\n",
    "\n",
    "    rows = []\n",
    "    for model, results in data.items():\n",
    "        row = f\"{model} & {results['Hits@1']:.2f} & {results['Hits@3']:.2f} & {results['Hits@10']:.2f} & {results['Mean rank']:.2f} & {results['Mean Reciprocal Rank']:.4f} \\\\\\\\ \\\\hline\"\n",
    "        rows.append(row)\n",
    "\n",
    "    return header + \"\\n\".join(rows) + \"\\n\" + footer"
   ]
  },
  {
   "cell_type": "code",
   "execution_count": 2,
   "metadata": {},
   "outputs": [],
   "source": [
    "# Specify the base folder containing subfolders with results.txt files\n",
    "base_folder = \"model_results\"\n",
    "\n",
    "\"\"\"Main function to process all folders and generate the LaTeX table.\"\"\"\n",
    "data = {}\n",
    "for subdir in os.listdir(base_folder):\n",
    "    subdir_path = os.path.join(base_folder, subdir)\n",
    "    if os.path.isdir(subdir_path):\n",
    "        results_file = os.path.join(subdir_path, \"results.txt\")\n",
    "        if os.path.exists(results_file):\n",
    "            results = parse_results(results_file)\n",
    "            data[subdir] = results\n",
    "\n",
    "latex_table = generate_latex_table(data)\n",
    "with open(\"results_table.tex\", \"w\") as f:\n",
    "    f.write(latex_table)"
   ]
  }
 ],
 "metadata": {
  "kernelspec": {
   "display_name": "Python 3",
   "language": "python",
   "name": "python3"
  },
  "language_info": {
   "codemirror_mode": {
    "name": "ipython",
    "version": 3
   },
   "file_extension": ".py",
   "mimetype": "text/x-python",
   "name": "python",
   "nbconvert_exporter": "python",
   "pygments_lexer": "ipython3",
   "version": "3.11.0"
  }
 },
 "nbformat": 4,
 "nbformat_minor": 2
}
