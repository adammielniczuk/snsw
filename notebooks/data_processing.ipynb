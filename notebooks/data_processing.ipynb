{
 "cells": [
  {
   "cell_type": "code",
   "execution_count": 1,
   "metadata": {},
   "outputs": [
    {
     "name": "stderr",
     "output_type": "stream",
     "text": [
      "d:\\SWSN\\swsn_env\\lib\\site-packages\\sentence_transformers\\cross_encoder\\CrossEncoder.py:13: TqdmWarning: IProgress not found. Please update jupyter and ipywidgets. See https://ipywidgets.readthedocs.io/en/stable/user_install.html\n",
      "  from tqdm.autonotebook import tqdm, trange\n"
     ]
    }
   ],
   "source": [
    "from data_processor import TKGProcessor\n",
    "import sys\n",
    "import os\n",
    "import pickle\n",
    "from Encoders import *\n",
    "from transformers import ElectraTokenizer, ElectraModel, DebertaV2Tokenizer, DebertaV2Model"
   ]
  },
  {
   "cell_type": "code",
   "execution_count": 2,
   "metadata": {},
   "outputs": [],
   "source": [
    "data='data/inductive/all-triples/YAGO11k'#'data/inductive/all-triples/WIKIDATA12k' - inductive prediction, for transductive prediction use data/WIKIDATA12k "
   ]
  },
  {
   "cell_type": "markdown",
   "metadata": {},
   "source": [
    "The data is stored in the test.txt, train.txt and valid.txt files. Each file is composed of 5 columns: subjectID, predicateID, objectID, time1, time2 (a triple and a time interval). The corresponding entities and names are stored in additional files (entity2id.txt, entity2name.txt, entity2description.txt, relation2id.txt, relation2name.txt). Entity2id.txt contains an entity, id, time1, time2. "
   ]
  },
  {
   "cell_type": "markdown",
   "metadata": {},
   "source": [
    "8276\t9\t8277\t-405-##-##\t####-##-## //from test.txt \n",
    "\n",
    "\n",
    "\\<Aristophanes\\>\t8276\t-446-##-##\t-386-##-## //from entity2id.txt\n",
    "\n",
    "\\<created\\>\t9 //from relation2itd.txt\n",
    "\n",
    "\\<The_Frogs\\>\t8277\t####-##-##\t####-##-## //from entity2id.txt\n",
    "\n",
    "Now we have a triple \\<Aristophanes\\> \\<created\\> \\<The_Frogs\\> and a time interval -405-##-##\t####-##-##.\n",
    "\n",
    "\\<Aristophanes\\>\tAristophanes //from entity2name.txt\n",
    "- \\<Aristophanes\\>\tAristophanes (/ˌærɪˈstɒfəniːz/; Ancient Greek: Ἀριστοφάνης, pronounced [aristopʰánɛːs]; c. 446 – c. 386 BC), son of Philippus, of the deme Kydathenaion (Latin: Cydathenaeum), was a comic playwright or comedy-writer of ancient Athens and a poet of Old Attic Comedy. Eleven of his forty plays survive virtually complete. These provide the most valuable examples of a genre of comic drama known as Old Comedy and are used to define it, along with fragments from dozens of lost plays by Aristophanes and his contemporaries.Also known as \"The Father of Comedy\" and \"the Prince of Ancient Comedy\", Aristophanes has been said to recreate the life of ancient Athens more convincingly than any other author. His powers of ridicule were feared and acknowledged by influential contemporaries; Plato singled out Aristophanes' play The Clouds as slander that contributed to the trial and subsequent condemning to death of Socrates, although other satirical playwrights had also caricatured the philosopher. //from entity2desc.txt\n",
    "\n",
    "\\<The_Frogs\\>\tThe Frogs //from entity2name.txt\n",
    "- \\<The_Frogs\\>\tThe Frogs (Greek: Βάτραχοι, translit. Bátrakhoi, lit. \"Frogs\"; Latin: Ranae, often abbreviated Ran. or Ra.) is a comedy written by the Ancient Greek playwright Aristophanes. It was performed at the Lenaia, one of the Festivals of Dionysus in Athens, in 405 BC and received first place.The Frogs tells the story of the god Dionysus, who, despairing of the state of Athens' tragedians, travels to Hades (the underworld) to bring the playwright Euripides back from the dead. (Euripides had died the year before, in 406 BC.) He brings along his slave Xanthias, who is smarter and braver than Dionysus. As the play opens, Xanthias and Dionysus argue over what kind of jokes Xanthias can use to open the play. For the first half of the play, Dionysus routinely makes critical errors, forcing Xanthias to improvise in order to protect his master and prevent Dionysus from looking incompetent—but this only allows Dionysus to continue to make mistakes with no consequence.To find a reliable path to Hades, Dionysus seeks advice from his half-brother Heracles, who had been there before in order to retrieve the hell hound Cerberus. Dionysus shows up at his doorstep dressed in a lion-hide and carrying a club. Heracles, upon seeing the effeminate Dionysus dressed up like himself, can't help laughing. When Dionysus asks which road is the quickest to get to Hades, Heracles tells him that he can hang himself, drink poison or jump off a tower. Dionysus opts for the longer journey, which Heracles himself had taken, across a lake (possibly Lake Acheron).  //from entity2desc.txt\n",
    "\n",
    "\n"
   ]
  },
  {
   "cell_type": "code",
   "execution_count": 3,
   "metadata": {},
   "outputs": [],
   "source": [
    "processor=TKGProcessor(\n",
    "    data_dir=data,\n",
    "    task='lp', #available options: lp - link prediction, tp-time prediction\n",
    "    mode='train', #train or test modes\n",
    "    min_time=-453,\n",
    "    max_time=2844, # min and max time taken from TEMT github\n",
    "    sentence_encoder_model = TextEncoder(SentenceTransformerEncoder(\"sentence-transformers/all-mpnet-base-v2\"), target_dim=None),\n",
    ")"
   ]
  },
  {
   "cell_type": "code",
   "execution_count": 4,
   "metadata": {},
   "outputs": [],
   "source": [
    "if os.path.exists('saved_features_yago_ind.dat'):\n",
    "\n",
    "    with open(\"saved_features_yago_ind.dat\", \"rb\") as f:\n",
    "        train_features = pickle.load(f)\n",
    "else:\n",
    "    train_examples = processor.get_train_examples(data)\n",
    "    train_features = processor.convert_examples_to_features(train_examples, use_descriptions=True)\n",
    "\n",
    "    with open(\"saved_features_yago_ind.dat\", \"wb\") as f:\n",
    "        pickle.dump(train_features, f)"
   ]
  },
  {
   "cell_type": "markdown",
   "metadata": {},
   "source": [
    "The processor produces train examples in the form of QuadrupleExample which is described like this:\n",
    "\n",
    "Args:\n",
    "-            guid: Unique id for the example.\n",
    "-           subject_id: string.\n",
    "-            predicate_id: string.\n",
    "-            object_id: string.\n",
    "-            timestamp: string\n",
    "-            label: int. The label of the example. This should be\n",
    "-            specified for train and dev examples, but not for test examples.\n",
    "\n",
    "These examples are then transformed into features by encoding the time using a timeencoder and encoding the triple using an lm encoder."
   ]
  },
  {
   "cell_type": "code",
   "execution_count": 5,
   "metadata": {},
   "outputs": [
    {
     "data": {
      "text/plain": [
       "<data_processor.QuadrupleExample at 0x1f23038bfa0>"
      ]
     },
     "execution_count": 5,
     "metadata": {},
     "output_type": "execute_result"
    }
   ],
   "source": [
    "train_examples = processor.get_train_examples(data)\n",
    "train_examples[0]"
   ]
  },
  {
   "cell_type": "code",
   "execution_count": 6,
   "metadata": {},
   "outputs": [
    {
     "data": {
      "text/plain": [
       "array([-0.99386534,  0.11059696,  0.21958619,  0.97559311,  0.99969373,\n",
       "        0.02474776,  0.52637916, -0.85024995,  0.25935578,  0.96578185,\n",
       "       -0.99324366,  0.11604752,  0.40739265,  0.9132531 ,  0.26620496,\n",
       "        0.96391645,  0.98589406, -0.16737056, -0.95766423, -0.28788752,\n",
       "       -0.15398943, -0.98807249,  0.77520791,  0.63170617,  0.60880552,\n",
       "        0.79331951,  0.46432282,  0.88566603, -0.93725695,  0.34863936,\n",
       "        0.60936851,  0.79288714, -0.88324651,  0.46890895, -0.72745132,\n",
       "        0.68615929,  0.81800738,  0.57520773, -0.65714359, -0.75376542,\n",
       "        0.96923228,  0.24614791, -0.54805032,  0.83644536, -0.90660564,\n",
       "       -0.42197893, -0.06547951, -0.99785391,  0.67176778, -0.7407618 ,\n",
       "        0.97304748, -0.23060486,  0.97625285,  0.21663417,  0.84904767,\n",
       "        0.52831625,  0.6893039 ,  0.72447231,  0.53989754,  0.84173075,\n",
       "        0.41475742,  0.90993202,  0.31524225,  0.94901124])"
      ]
     },
     "execution_count": 6,
     "metadata": {},
     "output_type": "execute_result"
    }
   ],
   "source": [
    "train_features[0].time_encoding"
   ]
  },
  {
   "cell_type": "code",
   "execution_count": 7,
   "metadata": {},
   "outputs": [
    {
     "data": {
      "text/plain": [
       "array([ 1.00260656e-02,  6.02931790e-02,  2.31985971e-02,  5.43634780e-02,\n",
       "       -4.37507480e-02, -3.63928378e-02,  2.70555820e-02, -2.82605384e-02,\n",
       "       -7.47601464e-02, -1.87179074e-02, -4.87498287e-03,  1.94866247e-02,\n",
       "       -1.09955063e-02, -3.89467739e-03,  7.56431669e-02,  5.42912595e-02,\n",
       "       -5.71947685e-03, -4.27759290e-02, -3.48124504e-02,  3.68406512e-02,\n",
       "        9.78542143e-04,  9.77070928e-02, -8.84434730e-02,  4.92405705e-03,\n",
       "       -4.69758771e-02, -3.17334495e-02,  1.70206348e-03, -2.09851637e-02,\n",
       "        4.90555204e-02,  3.63717526e-02,  2.78491825e-02, -2.72866851e-03,\n",
       "        3.52835050e-03,  1.56465098e-02,  2.16209014e-06, -7.72048626e-03,\n",
       "       -1.95517130e-02,  4.22785394e-02, -4.40586060e-02,  1.31802196e-02,\n",
       "        7.23850653e-02,  4.53405194e-02, -8.09378847e-02,  2.66321227e-02,\n",
       "       -2.35456601e-02, -2.89671998e-02, -1.42388009e-02, -3.21502797e-02,\n",
       "       -1.20003987e-02,  5.11814244e-02, -1.49555178e-02, -1.56336632e-02,\n",
       "       -9.19021368e-02, -1.78265907e-02, -5.98423332e-02, -2.31315624e-02,\n",
       "        3.55197117e-04,  4.52794544e-02,  4.01261337e-02,  2.08319947e-02,\n",
       "        1.82287544e-02, -3.13869901e-02,  4.44302754e-03, -6.98926449e-02,\n",
       "       -5.02937920e-02,  1.47899883e-02, -6.59433231e-02,  2.62655225e-02,\n",
       "        1.27049796e-02, -4.50439900e-02,  5.21350987e-02, -1.41237043e-02,\n",
       "       -7.80867599e-03,  7.12043047e-02,  1.29199354e-02,  6.31098747e-02,\n",
       "        2.98634525e-02, -1.03317657e-02,  2.07778960e-02,  2.01415978e-02,\n",
       "       -3.71969156e-02, -5.48123978e-02,  1.18720382e-02, -4.55814078e-02,\n",
       "       -7.67334476e-02,  3.31784897e-02, -3.05249989e-02,  4.48511541e-02,\n",
       "       -3.85469049e-02,  2.61787456e-02, -9.56908762e-02,  5.40079921e-02,\n",
       "       -1.35083357e-02, -9.46841948e-03, -1.57842506e-02, -4.41545824e-04,\n",
       "       -6.17272109e-02,  8.20399355e-03, -6.20181905e-03,  8.62996951e-02,\n",
       "       -4.52494137e-02, -1.22258374e-02, -2.81221373e-03,  9.81264655e-03,\n",
       "       -2.63045523e-02,  1.87174063e-02, -3.47773135e-02,  6.71654847e-03,\n",
       "       -4.77304272e-02, -8.51116478e-02,  7.18674017e-03, -2.92854570e-02,\n",
       "       -3.50020491e-02, -7.13071553e-03,  7.57053308e-03, -6.41182065e-02,\n",
       "        1.03394650e-02,  6.97573705e-04,  6.00716844e-03,  5.95918484e-02,\n",
       "       -2.43746527e-02,  1.37656890e-02,  2.05939338e-02,  3.46820392e-02,\n",
       "       -8.23438633e-03, -4.30437028e-02, -2.29159556e-02,  4.71110977e-02,\n",
       "        6.63079880e-03, -1.36238476e-02,  7.79993460e-03,  4.37977910e-03,\n",
       "        8.80663190e-03, -1.97116695e-02, -3.21891606e-02, -4.62573171e-02,\n",
       "       -3.15528661e-02, -3.82998143e-03,  6.35032281e-02,  3.45992437e-03,\n",
       "        6.57862574e-02, -4.96562272e-02, -3.17616276e-02, -1.24831647e-02,\n",
       "       -5.10922447e-02,  1.33526297e-02,  1.59046911e-02, -1.00895055e-02,\n",
       "       -1.43824359e-02, -4.07408588e-02, -2.43499335e-02,  1.92148646e-03,\n",
       "       -4.85762255e-03, -7.08531262e-03,  8.43117237e-02, -2.47704443e-02,\n",
       "       -3.29061858e-02,  1.74206682e-02, -8.27977993e-03, -5.39472811e-02,\n",
       "        4.85815406e-02, -2.20224913e-02,  3.00707836e-02, -1.59382988e-02,\n",
       "       -1.65018218e-03,  1.89321600e-02, -4.08422872e-02,  1.27612753e-02,\n",
       "        8.56233202e-03, -1.36648240e-02,  9.63331908e-02,  9.91517771e-03,\n",
       "        5.01338914e-02,  6.71627512e-03, -1.78726502e-02, -3.01180547e-03,\n",
       "       -2.15902016e-03, -8.54795147e-03, -1.84614584e-02,  1.94809269e-02,\n",
       "       -8.89531523e-02, -8.08576345e-02, -3.33781391e-02,  1.36448685e-02,\n",
       "       -6.50707707e-02, -2.18171682e-02,  6.00631395e-03, -1.80969648e-02,\n",
       "       -3.51572852e-03,  2.13439446e-02,  8.33073352e-03,  2.19624173e-02,\n",
       "       -7.13832153e-04,  1.51110655e-02,  6.63723797e-03, -1.26462625e-02,\n",
       "       -2.17901468e-02, -5.99498861e-02, -3.17604244e-02,  4.27064598e-02,\n",
       "       -1.14400433e-02,  7.19284862e-02, -2.76355557e-02, -1.20689049e-02,\n",
       "       -4.24259529e-02,  1.87338516e-02, -2.93089896e-02, -2.41120197e-02,\n",
       "       -6.59932569e-02, -1.85334459e-02,  6.52009621e-02,  2.34046634e-02,\n",
       "        2.07037255e-02,  1.90131627e-02, -1.98086128e-02, -3.47943678e-02,\n",
       "        1.00617660e-02,  2.19477024e-02, -6.89117312e-02,  6.18380234e-02,\n",
       "       -4.65713665e-02,  3.65692861e-02,  3.46930721e-03,  7.50140939e-03,\n",
       "        4.15141508e-02,  1.16668418e-02, -2.81707682e-02,  7.05506944e-04,\n",
       "        1.08577334e-03, -3.99905108e-02,  1.14989234e-06,  2.50636060e-02,\n",
       "        1.37598068e-03,  3.70763987e-02,  5.44219427e-02,  1.28826229e-02,\n",
       "        5.19610271e-02, -6.52154312e-02, -4.20945548e-02, -4.29347716e-02,\n",
       "       -3.48279662e-02, -2.39488780e-02, -3.59007306e-02,  1.92446932e-02,\n",
       "        3.19400206e-02, -3.13113295e-02,  3.38296220e-02, -2.36867368e-02,\n",
       "       -2.11417004e-02,  1.06864580e-04, -3.44883725e-02,  2.97237001e-02,\n",
       "       -4.82477583e-02, -3.16973478e-02, -1.23317810e-02,  3.97703471e-03,\n",
       "        4.65802774e-02,  3.23086120e-02, -5.00071654e-03,  3.31272595e-02,\n",
       "        1.58646777e-02,  1.23896990e-02, -2.13708710e-02, -2.77147517e-02,\n",
       "       -2.29273532e-02,  2.04847921e-02, -1.59526709e-02,  5.63039333e-02,\n",
       "       -4.34406698e-02, -4.22211774e-02,  3.77815147e-03,  1.70603190e-02,\n",
       "       -3.42523791e-02, -1.36644086e-02,  2.14285832e-02, -1.74559783e-02,\n",
       "       -4.57822196e-02, -3.76441628e-02, -2.21101195e-02,  1.37103135e-02,\n",
       "        3.33154714e-03, -5.89971542e-02,  5.17136306e-02, -4.81812004e-03,\n",
       "        3.68028581e-02,  1.68776810e-02, -4.07608375e-02, -9.56445932e-03,\n",
       "       -6.18106835e-02,  6.53003827e-02, -2.06567720e-02,  2.32768301e-02,\n",
       "       -6.78520137e-03, -7.11902007e-02,  5.31640649e-02, -3.82109247e-02,\n",
       "       -3.14233564e-02,  3.43386829e-02,  3.83032337e-02, -1.00460704e-02,\n",
       "        2.55777966e-02,  3.99078652e-02,  6.07508142e-03,  1.45116178e-02,\n",
       "       -2.51110904e-02, -2.37741154e-02,  6.93703368e-02,  4.73508425e-02,\n",
       "       -3.50091718e-02, -2.71894950e-02,  9.51592997e-03,  2.36008000e-02,\n",
       "        1.03392021e-03,  3.23321647e-03, -7.69861089e-03, -3.40661593e-02,\n",
       "       -9.99186337e-02,  4.78589125e-02, -7.81728793e-03,  3.33642177e-02,\n",
       "       -6.12473162e-03, -2.35228613e-02,  2.26916727e-02, -2.00843555e-03,\n",
       "       -2.37418227e-02,  6.31239172e-03,  2.17604470e-02,  4.65498827e-02,\n",
       "       -2.06228103e-02,  2.26381095e-03, -2.61141127e-03,  7.24151358e-02,\n",
       "       -2.01558396e-02,  1.62961651e-02, -1.10816630e-02, -3.10802180e-02,\n",
       "       -6.58781733e-03, -6.31468967e-02,  4.10960764e-02, -2.29736865e-02,\n",
       "        9.88455256e-04, -2.67320802e-03, -2.54670903e-02,  1.04262374e-01,\n",
       "       -4.67252638e-03,  8.55888613e-03,  5.34035731e-03, -3.05091161e-02,\n",
       "        3.43214534e-02,  2.44358163e-02,  2.37649679e-02,  7.90679082e-02,\n",
       "       -2.21075919e-02,  1.12278322e-02,  5.41063286e-02, -3.11350692e-02,\n",
       "        2.14828015e-03, -7.11282436e-03,  2.21302100e-02, -1.74361374e-03,\n",
       "       -7.89041892e-02, -5.85372336e-02, -2.39254571e-02,  5.84173650e-02,\n",
       "        5.53878732e-02, -2.03904533e-03, -4.27392386e-02,  2.38874909e-02,\n",
       "       -5.05215973e-02, -3.30740698e-02,  3.69949862e-02, -1.86839642e-03,\n",
       "       -8.51703137e-02, -1.20375622e-02, -1.89610049e-02,  4.64099981e-02,\n",
       "        4.44460176e-02,  3.98988090e-02, -4.86841090e-02,  4.76274155e-02,\n",
       "       -5.96920848e-02,  7.50362733e-03,  4.89067659e-02, -3.16979662e-02,\n",
       "       -2.77303718e-02,  2.34973002e-02,  2.46875733e-02, -1.09086270e-02,\n",
       "       -6.70137331e-02, -2.15612326e-05, -5.99063234e-03, -4.51291241e-02,\n",
       "        1.78453419e-02,  2.83136591e-02, -1.86957754e-02, -1.17241580e-03,\n",
       "       -3.25325727e-02,  1.35975499e-02, -3.69906100e-03,  8.01401504e-04,\n",
       "        8.20710976e-03, -1.54297352e-02,  1.36335930e-02, -3.68849225e-02,\n",
       "       -3.28650698e-02,  2.53635342e-03,  3.45973745e-02,  8.54478963e-03,\n",
       "        2.33637057e-02,  3.40223163e-02,  1.53639708e-02, -5.03201745e-02,\n",
       "       -5.01079252e-03,  4.54896316e-02, -2.91908272e-02, -5.56002092e-03,\n",
       "       -1.34600950e-02,  4.54670750e-02, -1.37573725e-03,  1.43669033e-02,\n",
       "        2.44992133e-02,  4.97981869e-02, -1.55974766e-02, -4.61120196e-02,\n",
       "        5.27027287e-02,  2.48989780e-02,  1.25067746e-02,  2.15170719e-02,\n",
       "        2.21493542e-02, -7.37833558e-03,  5.56614548e-02,  3.40098492e-03,\n",
       "       -2.35468918e-03,  7.17127370e-03, -1.05130568e-01,  5.63626476e-02,\n",
       "        1.29660115e-01,  1.39785826e-01,  5.20476773e-02,  1.91871729e-03,\n",
       "        2.04373542e-02,  8.11934099e-02, -1.54538872e-02, -7.35838860e-02,\n",
       "        2.46187132e-02, -2.07944866e-02,  2.64587402e-02,  3.55929881e-02,\n",
       "       -4.20083441e-02,  2.44616959e-02, -2.99088322e-02, -5.01050428e-02,\n",
       "       -4.12691124e-02, -7.21343383e-02,  3.05923410e-02,  2.04457324e-02,\n",
       "       -6.94892853e-02,  3.98675799e-02,  4.60142232e-02, -1.78985409e-02,\n",
       "       -1.27414037e-02,  1.18718827e-02, -5.96460514e-03, -1.80168785e-02,\n",
       "        9.67257917e-02, -2.62779575e-02, -5.37823839e-03, -6.54405653e-02,\n",
       "        2.64105834e-02, -2.20369939e-02, -3.28578502e-02, -1.45620313e-02,\n",
       "       -6.20880397e-04, -1.22629376e-02,  1.87859852e-02, -5.05909175e-02,\n",
       "       -5.08966818e-02,  3.52998264e-02,  2.07515582e-02, -1.42570995e-02,\n",
       "        7.69299315e-03,  2.31640525e-02,  8.38517956e-03, -9.89528745e-03,\n",
       "       -4.69258847e-03,  4.28148918e-03, -8.61115009e-03,  4.95904498e-03,\n",
       "        3.63868438e-02,  4.77353670e-02, -1.46233151e-03, -8.82498175e-03,\n",
       "       -2.94882874e-03, -3.32654603e-02,  3.14451605e-02,  7.33715072e-02,\n",
       "        2.36876346e-02, -1.95141565e-02,  5.34326993e-02,  9.02772136e-03,\n",
       "        7.42910206e-02,  4.50239703e-02,  1.61988102e-02,  4.76618595e-02,\n",
       "        2.20643915e-02,  1.92024242e-02, -4.20051366e-02,  7.59472325e-03,\n",
       "        5.89016303e-02,  8.15887004e-03,  4.72101793e-02,  2.37034727e-02,\n",
       "        4.15566452e-02, -7.31542706e-03,  1.00171641e-02, -8.09632533e-04,\n",
       "        3.39757502e-02,  2.57680155e-02,  4.41428041e-03,  2.17364952e-02,\n",
       "        2.23584957e-02, -2.48902626e-02, -4.16091792e-02, -5.30017586e-03,\n",
       "       -6.47380576e-03,  7.23985489e-04,  4.89044562e-03, -3.63967791e-02,\n",
       "        3.73507105e-02, -3.69356349e-02,  6.25832826e-02,  8.44428409e-03,\n",
       "       -8.45935196e-03,  3.27273645e-02, -3.30375545e-02,  2.11498328e-02,\n",
       "        2.58987416e-02, -5.96187115e-02, -1.35827567e-02,  2.60303933e-02,\n",
       "        2.05890108e-02,  1.44757889e-02, -3.14303599e-02, -3.03595383e-02,\n",
       "        3.44381132e-03, -2.10794900e-02,  4.64534126e-02, -6.67583644e-02,\n",
       "       -6.74718572e-03, -2.53400952e-02, -2.40192637e-02,  3.38845290e-02,\n",
       "       -1.13206664e-02, -3.99244279e-02,  3.40311602e-02, -6.39824000e-33,\n",
       "       -1.04127066e-04, -5.26038148e-02, -9.14146658e-03, -1.63101852e-02,\n",
       "       -1.73795596e-02,  1.29668042e-02,  3.71245062e-03, -5.13545796e-02,\n",
       "       -4.07297127e-02, -1.50642600e-02,  4.33095880e-02, -7.72041362e-03,\n",
       "       -2.77577643e-03,  1.11261066e-02, -2.11199261e-02,  4.91768995e-04,\n",
       "       -7.56126037e-03,  3.66897918e-02,  7.34513218e-04,  3.93552631e-02,\n",
       "        8.66114646e-02,  6.67514727e-02, -3.47869424e-03,  2.99423411e-02,\n",
       "        3.32531566e-03, -3.32296044e-02, -2.36121416e-02,  1.98731571e-03,\n",
       "       -2.55805030e-02,  6.78695217e-02, -2.84965485e-02, -3.15984525e-02,\n",
       "       -3.03717479e-02, -3.57997641e-02,  5.37695326e-02,  1.79505795e-02,\n",
       "       -2.90955864e-02, -2.30561551e-02, -1.35549875e-02, -1.96879692e-02,\n",
       "        3.66396047e-02,  4.77625150e-03,  8.64832476e-03,  1.75667964e-02,\n",
       "       -3.93526182e-02,  1.40136331e-02, -1.42881898e-02,  6.74465299e-03,\n",
       "        3.94464657e-02, -3.81908379e-02, -4.81460467e-02, -3.66520286e-02,\n",
       "        3.65032889e-02, -3.29814991e-03, -2.64938343e-02,  2.68003792e-02,\n",
       "       -5.16958628e-03,  2.25447398e-02,  4.42909868e-03, -2.88776178e-02,\n",
       "       -1.70606580e-02,  6.60869926e-02,  2.07017660e-02, -3.47790570e-04,\n",
       "        4.38010469e-02, -4.99826483e-02, -5.10336123e-02, -2.14227103e-02,\n",
       "       -1.62986889e-02,  2.40129791e-02,  4.74286973e-02,  1.41005768e-02,\n",
       "        2.31810077e-03, -3.23323384e-02, -3.55019025e-03, -1.97978434e-03,\n",
       "       -6.94929436e-02,  2.77851839e-02, -4.19249237e-02,  5.97485825e-02,\n",
       "        3.38282473e-02, -1.85021330e-02,  5.85065037e-02,  2.17797514e-02,\n",
       "       -7.24741211e-03, -4.87219095e-02, -1.22488523e-02,  4.47859727e-02,\n",
       "        1.41768157e-03, -5.14599914e-03,  9.78470966e-03,  4.19559143e-02,\n",
       "       -1.41737005e-02,  5.56327440e-02, -3.43433283e-02, -1.74692888e-02,\n",
       "       -4.50817905e-02, -1.89378355e-02, -1.69833694e-02,  6.53612837e-02,\n",
       "        1.34081617e-02,  4.90695238e-02,  1.75440963e-02, -7.25406222e-03,\n",
       "        1.02454554e-02,  3.11939139e-02,  1.20234620e-02,  3.62878926e-02,\n",
       "       -2.82090940e-02, -6.55317819e-03,  2.06998121e-02,  2.37482917e-02,\n",
       "       -2.13479288e-02,  1.10479696e-02, -1.43416822e-02, -3.59717645e-02,\n",
       "        4.85935695e-02,  4.69009764e-02, -2.97858845e-03, -4.09802829e-04,\n",
       "       -2.17857007e-02, -6.84497207e-02, -1.60841625e-02,  2.76488774e-02,\n",
       "       -7.14977682e-02,  6.02428569e-03,  2.11569248e-03, -4.51455005e-02,\n",
       "        5.98687343e-02,  1.74622890e-02, -8.01835861e-03,  1.21381963e-02,\n",
       "        2.73426679e-07,  1.14025973e-01, -1.73845813e-02,  4.91012037e-02,\n",
       "       -4.10433710e-02, -3.57722566e-02, -1.66765507e-02,  2.21909233e-03,\n",
       "        6.19692355e-02, -1.83456279e-02,  4.01395792e-03,  1.60760041e-02,\n",
       "       -2.53919717e-02, -1.46993799e-02, -6.73126662e-03, -6.84853690e-03,\n",
       "        7.63593242e-02, -2.16123704e-02,  3.83015946e-02, -1.88348312e-02,\n",
       "        5.08864820e-02, -7.02333674e-02, -2.37796921e-02,  1.41234752e-02,\n",
       "        9.48931556e-03, -3.41751706e-03,  3.95437516e-02, -1.05444761e-02,\n",
       "       -3.69916372e-02, -3.15953977e-02, -5.12264185e-02, -3.03833024e-03,\n",
       "        1.61006022e-02, -2.51762085e-02, -5.97549118e-02,  3.88924219e-02,\n",
       "       -4.87940907e-02, -3.21083963e-02,  4.13713828e-02, -5.65782562e-03,\n",
       "        1.25900880e-02, -2.53209379e-02, -6.94374889e-02,  2.65172254e-02,\n",
       "       -2.95998622e-03, -1.18841184e-02, -4.56118397e-02,  1.19000862e-04,\n",
       "        7.44520798e-02,  3.39704044e-02,  1.28942411e-02,  3.73507552e-02,\n",
       "       -1.30049912e-02, -1.16357040e-02, -1.46194012e-03,  2.21669413e-02,\n",
       "        2.91412417e-02, -2.25865208e-02, -4.67964523e-02,  4.69349362e-02,\n",
       "        2.94178296e-02, -1.25537384e-02,  8.12843442e-04, -1.61740985e-02,\n",
       "       -1.43461274e-02, -3.07214279e-02,  1.15861714e-01, -3.36160325e-02,\n",
       "        2.70307543e-34, -4.62771803e-02,  1.14913918e-02, -3.54114585e-02,\n",
       "       -6.94743963e-03, -1.40050799e-02,  4.69313888e-03,  6.53681299e-03,\n",
       "       -1.51329804e-02,  6.23376993e-03,  2.90839467e-03, -1.30288722e-02],\n",
       "      dtype=float32)"
      ]
     },
     "execution_count": 7,
     "metadata": {},
     "output_type": "execute_result"
    }
   ],
   "source": [
    "train_features[0].triple_encoding"
   ]
  }
 ],
 "metadata": {
  "kernelspec": {
   "display_name": "swsn_env",
   "language": "python",
   "name": "python3"
  },
  "language_info": {
   "codemirror_mode": {
    "name": "ipython",
    "version": 3
   },
   "file_extension": ".py",
   "mimetype": "text/x-python",
   "name": "python",
   "nbconvert_exporter": "python",
   "pygments_lexer": "ipython3",
   "version": "3.10.6"
  }
 },
 "nbformat": 4,
 "nbformat_minor": 2
}
